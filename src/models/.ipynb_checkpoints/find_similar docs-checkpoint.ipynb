{
 "cells": [
  {
   "cell_type": "code",
   "execution_count": 9,
   "metadata": {
    "scrolled": true
   },
   "outputs": [
    {
     "name": "stdout",
     "output_type": "stream",
     "text": [
      "The 5 most similar documents are: [2825  830  861 2889]\n",
      "The cosine similarites of the 5 most similar documents are: [0.28592152 0.2677321  0.24444793 0.23231523]\n",
      "(4572, 19087)\n"
     ]
    }
   ],
   "source": [
    "import pandas as pd\n",
    "import csv\n",
    "#tf-idf model and cosine similary querying\n",
    "from sklearn.feature_extraction.text import TfidfVectorizer\n",
    "from sklearn.metrics.pairwise import cosine_similarity, linear_kernel\n",
    "import gensim.corpora as corpora\n",
    "from gensim.models import TfidfModel\n",
    "\n",
    "\n",
    "def train_tfidf_model(path):\n",
    "    '''This function reads in the list of processed dreams and creates:\n",
    "            - texts: a list of lists of words as strings\n",
    "            - corpus: a bag-of-words list of lists of tuples\n",
    "            - stringified_corpus: a bag-of-words of list of strings\n",
    "            - tf_idf_model: a tf idf model trained on the corpus\n",
    "            - The path I'm using for this project is \"/Users/cmeaton/Documents/code/ds/METIS/sea19_ds7_workingdir/project_4/data/processed_data/processed_dreams.csv\"'''\n",
    "   \n",
    "    with open(path, 'r') as f:\n",
    "        reader = csv.reader(f)\n",
    "        data_words_nostops = list(reader)\n",
    "    \n",
    "    # Create Dictionary\n",
    "    id2word = corpora.Dictionary(data_words_nostops)\n",
    "    # Create Corpus\n",
    "    texts = data_words_nostops\n",
    "    # Term Document Frequency\n",
    "    corpus = [id2word.doc2bow(text) for text in texts]\n",
    "    # convert corpus into string for fit_transform later\n",
    "    stringified_corpus = [' '.join(i) for i in texts]\n",
    "    # Build tf-idf model\n",
    "    tf_idf_model = TfidfModel(corpus)\n",
    "    \n",
    "    return texts, tf_idf_model, stringified_corpus\n",
    "    \n",
    "texts, tf_idf_model, stringified_corpus = train_tfidf_model('/Users/cmeaton/Documents/code/ds/METIS/sea19_ds7_workingdir/project_4/data/processed_data/processed_dreams.csv'\n",
    ")\n",
    "\n",
    "\n",
    "def bow_sample_dreams(path):\n",
    "    '''This function reads in a single processed dream and returns the dream as a list of strings for querying.\n",
    "    Paths that can be used are:\n",
    "    - \"/Users/cmeaton/Documents/code/ds/METIS/sea19_ds7_workingdir/project_4/data/processed_data/processed_sample_dream.csv\"\n",
    "    - \"/Users/cmeaton/Documents/code/ds/METIS/sea19_ds7_workingdir/project_4/data/processed_data/processed_sample_dream_2.csv\"'''\n",
    "\n",
    "    with open(path, \"r\") as f:\n",
    "        reader = csv.reader(f)\n",
    "        a = list(reader)\n",
    "        sample_dream = []\n",
    "        for i in a:\n",
    "            i = ''.join(i)\n",
    "            sample_dream.append(i)\n",
    "        \n",
    "        processed_sample_dream = ' '.join(sample_dream)\n",
    "        return processed_sample_dream\n",
    "\n",
    "processed_sample_dream = bow_sample_dreams(\"/Users/cmeaton/Documents/code/ds/METIS/sea19_ds7_workingdir/project_4/data/processed_data/processed_sample_dream.csv\"\n",
    ")\n",
    "\n",
    "\n",
    "def return_similar_docs(training_corpus, new_doc):\n",
    "\n",
    "    # create tfidf vectorizer\n",
    "    tfidf = TfidfVectorizer()\n",
    "    # fit tfidf vectorizer on entire corpus\n",
    "    queryTFIDF = tfidf.fit_transform(training_corpus)\n",
    "    # get tfidf weights for the new_doc terms\n",
    "    sample_query = tfidf.transform([new_doc])\n",
    "    # create array of cosine similarities of the new_doc terms with each document from entire corpus\n",
    "    cosine_similarities = linear_kernel(sample_query, queryTFIDF).flatten()\n",
    "    # return index position of top 5 most similar documents in corpus to the new_doc\n",
    "    related_docs_indices = print(f'The 5 most similar documents are: {cosine_similarities.argsort()[:-5:-1]}')\n",
    "    # return cosine similiarty of top 5 most similar documents in corpus to the new_doc\n",
    "    related_docs_similiarity = print(f'The cosine similarites of the 5 most similar documents are: {cosine_similarities[cosine_similarities.argsort()[:-5:-1]]}')\n",
    "\n",
    "return_similar_docs(stringified_corpus, processed_sample_dream)"
   ]
  },
  {
   "cell_type": "code",
   "execution_count": 2,
   "metadata": {},
   "outputs": [
    {
     "data": {
      "text/plain": [
       "'home city water tidal wave started crashing street climbed top tree held tight wave continued crashing saw people swalled current break wave jumped swam shore climbed bridge ran away safe vantage point zoomed space saw one big wave crash whole pacific coast surprise went cascade across rockies great plain appalachian eventually atlantic ocean whole country submerged water'"
      ]
     },
     "execution_count": 2,
     "metadata": {},
     "output_type": "execute_result"
    }
   ],
   "source": [
    "processed_sample_dream"
   ]
  },
  {
   "cell_type": "markdown",
   "metadata": {},
   "source": [
    "### Sanity check\n",
    "\n",
    "Let's read in the original sample dream text file..."
   ]
  },
  {
   "cell_type": "code",
   "execution_count": 2,
   "metadata": {},
   "outputs": [
    {
     "data": {
      "text/plain": [
       "[['I was in my home city and right by the water when tidal waves started crashing over the streets. I climbed to the top of a tree and held on as tight as I could but the waves continued crashing and I saw many people swalled up in the current. When there was a break in the waves, I jumped down and swam to shore, where I climbed up a bridge and ran away. Once I was safe, my vantage point zoomed out to space where I saw one big wave crash over the whole pacific coast and to my surprise, went over the cascades, across the rockies, great plains, appalachians, and eventually into the atlantic ocean. The whole country was submerged in water.']]"
      ]
     },
     "execution_count": 2,
     "metadata": {},
     "output_type": "execute_result"
    }
   ],
   "source": [
    "path_sample_dream_1 = \"/Users/cmeaton/Documents/code/ds/METIS/sea19_ds7_workingdir/project_4/data/external/sample_dream.csv\"\n",
    "\n",
    "with open(path_sample_dream_1, 'r') as f:\n",
    "    reader = csv.reader(f)\n",
    "    sample_dream_1 = list(reader)\n",
    "\n",
    "sample_dream_1"
   ]
  },
  {
   "cell_type": "markdown",
   "metadata": {},
   "source": [
    "And compare it to the top most similar dream in the corpus."
   ]
  },
  {
   "cell_type": "code",
   "execution_count": 3,
   "metadata": {
    "scrolled": true
   },
   "outputs": [],
   "source": [
    "path_to_raw_dreams = \"/Users/cmeaton/Documents/code/ds/METIS/sea19_ds7_workingdir/project_4/data/raw/final_dataframe.csv\"\n",
    "df = pd.read_csv(path_to_raw_dreams)\n",
    "raw_dreams = df.selftext.values.tolist()\n"
   ]
  },
  {
   "cell_type": "code",
   "execution_count": 4,
   "metadata": {},
   "outputs": [
    {
     "data": {
      "text/plain": [
       "\"Last night I dreamt I was visiting a friends house on the beach. We were watching the waves and they were huge. I was excited to play in them. Then we were inside the house and I looked out and the waves were right at the window and started crashing against the house. All of a sudden the house just tilted. We had to lay against the wall as the house started rocking back and forth from the waves. I told her I didn't think this was okay and she said it happened all the time and that it was okay. The whole house was rocking and water was leaking in but I trusted the girl who was telling me that it was totally normal. I feel like the waves were rocking my foundation? But I'm not sure.\""
      ]
     },
     "execution_count": 4,
     "metadata": {},
     "output_type": "execute_result"
    }
   ],
   "source": [
    "raw_dreams[2825]"
   ]
  },
  {
   "cell_type": "code",
   "execution_count": null,
   "metadata": {},
   "outputs": [],
   "source": []
  }
 ],
 "metadata": {
  "kernelspec": {
   "display_name": "Python 3",
   "language": "python",
   "name": "python3"
  },
  "language_info": {
   "codemirror_mode": {
    "name": "ipython",
    "version": 3
   },
   "file_extension": ".py",
   "mimetype": "text/x-python",
   "name": "python",
   "nbconvert_exporter": "python",
   "pygments_lexer": "ipython3",
   "version": "3.7.1"
  }
 },
 "nbformat": 4,
 "nbformat_minor": 2
}
