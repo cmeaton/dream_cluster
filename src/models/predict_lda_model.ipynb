{
 "cells": [
  {
   "cell_type": "code",
   "execution_count": 4,
   "metadata": {
    "scrolled": true
   },
   "outputs": [
    {
     "data": {
      "text/plain": [
       "[(1, 0.035164587),\n",
       " (3, 0.15730838),\n",
       " (4, 0.024240606),\n",
       " (5, 0.04592488),\n",
       " (6, 0.17756799),\n",
       " (8, 0.4588877),\n",
       " (10, 0.06762684)]"
      ]
     },
     "execution_count": 4,
     "metadata": {},
     "output_type": "execute_result"
    }
   ],
   "source": [
    "import csv\n",
    "import pickle\n",
    "# Gensim\n",
    "import gensim\n",
    "import gensim.corpora as corpora\n",
    "from gensim.corpora.dictionary import Dictionary\n",
    "\n",
    "\n",
    "def processed_csv_to_vec(path_text, path_model):\n",
    "    '''This function inputs a filepath to a .csv file containing a preprocessed a sample dream. \n",
    "    It returns the probabilty distribution of that sample dream within each topic defined by the LDA model.'''\n",
    "\n",
    "    with open(path_text, \"r\") as f:\n",
    "        reader = csv.reader(f)\n",
    "        a = list(reader)\n",
    "        sample_dream = []\n",
    "        for i in a:\n",
    "            i = ''.join(i)\n",
    "            sample_dream.append(i)\n",
    "            \n",
    "    split_sample = [d.split() for d in sample_dream]\n",
    "    id2word = corpora.Dictionary(split_sample)\n",
    "    sample_corpus = id2word.doc2bow(sample_dream)\n",
    "    \n",
    "    lda_model = pickle.load(open(path_model, 'rb'))\n",
    "\n",
    "    vector = lda_model[sample_corpus]\n",
    "    topics = []\n",
    "    for j in vector:\n",
    "        topics.append(vector)\n",
    "    topics = topics[1][0][:11]    \n",
    "    return topics\n",
    "\n",
    "processed_csv_to_vec('/Users/cmeaton/Documents/code/ds/METIS/sea19_ds7_workingdir/project_4/data/processed_data/processed_sample_dream.csv',\n",
    "                    '/Users/cmeaton/Documents/code/ds/METIS/sea19_ds7_workingdir/project_4/src/models/pickled_model_output/lda_model_file_11.sav')\n",
    "\n",
    "\n"
   ]
  },
  {
   "cell_type": "code",
   "execution_count": null,
   "metadata": {},
   "outputs": [],
   "source": []
  }
 ],
 "metadata": {
  "kernelspec": {
   "display_name": "Python 3",
   "language": "python",
   "name": "python3"
  },
  "language_info": {
   "codemirror_mode": {
    "name": "ipython",
    "version": 3
   },
   "file_extension": ".py",
   "mimetype": "text/x-python",
   "name": "python",
   "nbconvert_exporter": "python",
   "pygments_lexer": "ipython3",
   "version": "3.7.1"
  }
 },
 "nbformat": 4,
 "nbformat_minor": 2
}
